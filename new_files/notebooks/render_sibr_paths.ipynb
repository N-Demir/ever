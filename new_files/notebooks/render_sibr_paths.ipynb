{
 "cells": [
  {
   "cell_type": "code",
   "execution_count": 8,
   "metadata": {},
   "outputs": [
    {
     "name": "stdout",
     "output_type": "stream",
     "text": [
      "/home/amai/gaussian-splatting-merge\n",
      "2059\n"
     ]
    }
   ],
   "source": [
    "import os\n",
    "os.environ[\"CC\"] = \"/usr/bin/gcc-11\"\n",
    "os.environ[\"CXX\"] = \"/usr/bin/g++-11\"\n",
    "import struct\n",
    "import numpy as np\n",
    "from tqdm import tqdm\n",
    "\n",
    "from pathlib import Path\n",
    "import imageio\n",
    "import os\n",
    "import sys\n",
    "sys.path.append(str(Path(os.path.abspath('')).parent))\n",
    "print(str(Path(os.path.abspath('')).parent))\n",
    "import torch\n",
    "from gaussian_renderer import GaussianModel, splinerender, render\n",
    "from scene import Scene\n",
    "from scene.cameras import Camera, MiniCam\n",
    "from torch import nn\n",
    "import matplotlib.pyplot as plt\n",
    "import imageio\n",
    "from pyquaternion import Quaternion\n",
    "from scene.dataset_readers import ProjectionType\n",
    "\n",
    "dataset = \"nyc\"\n",
    "# path = \"berlin5\"\n",
    "# dataset = \"train\"\n",
    "path = \"train5\"\n",
    "eval_path = \"/home/amai/gaussian-splatting-merge/eval.znf\"\n",
    "# eval_path = \"/home/amai/gaussian-splatting-merge/eval\"\n",
    "# output_path = Path(\"/data/popping_videos/ours0\") / dataset / \"images\"\n",
    "output_path = Path(f\"~/Videos/popping_paths/{path}/ours\")\n",
    "\n",
    "output_path = Path(f\"~/Videos/nyc1/ours/\")\n",
    "output_path.mkdir(parents=True, exist_ok=True)\n",
    "# f = open(f\"/data/video_paths/{dataset}/r1/path.path\", \"rb\")\n",
    "# f = open(f\"/home/amai/Videos/popping_paths/{path}.path\", \"rb\")\n",
    "f = open(f\"/home/amai/Videos/nyc1.path\", \"rb\")\n",
    "# f = open(f\"smooth.path\", \"rb\")\n",
    "data = f.read()\n",
    "N = int.from_bytes(data[:4])\n",
    "camera_size = 11\n",
    "\n",
    "cameras = np.array(struct.unpack(f'>{N*camera_size}f', data[4:])).reshape(N, -1)\n",
    "full_data = struct.unpack(f'>i{N*camera_size}f', data)\n",
    "N = full_data[0]\n",
    "cameras = np.array(full_data[1:]).reshape(N, -1)\n",
    "print(N)"
   ]
  },
  {
   "cell_type": "code",
   "execution_count": 9,
   "metadata": {},
   "outputs": [
    {
     "name": "stdout",
     "output_type": "stream",
     "text": [
      "/home/amai/gaussian-splatting-merge/eval.znf/nyc\n",
      "Looking for config file in /home/amai/gaussian-splatting-merge/eval.znf/nyc/cfg_args\n",
      "Config file found: /home/amai/gaussian-splatting-merge/eval.znf/nyc/cfg_args\n"
     ]
    }
   ],
   "source": [
    "import shlex\n",
    "from argparse import ArgumentParser, Namespace\n",
    "from arguments import ModelParams, PipelineParams, OptimizationParams\n",
    "\n",
    "def get_combined_args(args_cmdline):\n",
    "    cfgfile_string = \"Namespace()\"\n",
    "\n",
    "    try:\n",
    "        cfgfilepath = os.path.join(args_cmdline.model_path, \"cfg_args\")\n",
    "        print(\"Looking for config file in\", cfgfilepath)\n",
    "        with open(cfgfilepath) as cfg_file:\n",
    "            print(\"Config file found: {}\".format(cfgfilepath))\n",
    "            cfgfile_string = cfg_file.read()\n",
    "    except TypeError:\n",
    "        print(\"Config file not found at\")\n",
    "        pass\n",
    "    args_cfgfile = eval(cfgfile_string)\n",
    "\n",
    "    merged_dict = vars(args_cfgfile).copy()\n",
    "    for k, v in vars(args_cmdline).items():\n",
    "        if v != None:\n",
    "            merged_dict[k] = v\n",
    "    return Namespace(**merged_dict)\n",
    "\n",
    "\n",
    "parser = ArgumentParser(description=\"Testing script parameters\")\n",
    "model = ModelParams(parser, sentinel=True)\n",
    "pipeline = PipelineParams(parser)\n",
    "args = parser.parse_args(shlex.split(f\"-m {Path(eval_path) / dataset} --images images_2 -r 1\"))\n",
    "print(args.model_path)\n",
    "args = get_combined_args(args)\n",
    "model = model.extract(args)\n",
    "# model.source_path = str(Path(\"/data/nerf_synthetic\") / dataset)\n",
    "# model.source_path = str(Path(\"/data/nerf_datasets/tandt/\") / dataset)\n",
    "model.source_path = str(Path(\"/data/nerf_datasets/zipnerf_ud\") / dataset)\n",
    "\n",
    "model.max_opacity = 0.99\n",
    "\n",
    "pipeline = pipeline.extract(args)"
   ]
  },
  {
   "cell_type": "code",
   "execution_count": 10,
   "metadata": {},
   "outputs": [
    {
     "name": "stdout",
     "output_type": "stream",
     "text": [
      "Loading trained model at iteration 30000\n",
      "Reading camera 990/990\n",
      "Loading Training Cameras\n",
      "Loaded Train Cameras: 990\n",
      "Loaded Test Cameras: 0\n"
     ]
    }
   ],
   "source": [
    "gaussians = GaussianModel(model.sh_degree, model.max_opacity)\n",
    "scene = Scene(model, gaussians, load_iteration=-1, shuffle=False)"
   ]
  },
  {
   "cell_type": "code",
   "execution_count": 11,
   "metadata": {},
   "outputs": [],
   "source": [
    "refcam = scene.getTrainCameras()[0]"
   ]
  },
  {
   "cell_type": "code",
   "execution_count": 12,
   "metadata": {},
   "outputs": [],
   "source": [
    "from gaussian_renderer.fast_renderer import FastRenderer\n",
    "\n",
    "renderer = FastRenderer(refcam, gaussians, False)\n"
   ]
  },
  {
   "cell_type": "code",
   "execution_count": 13,
   "metadata": {},
   "outputs": [
    {
     "name": "stderr",
     "output_type": "stream",
     "text": [
      "100%|██████████| 2059/2059 [11:43<00:00,  2.93it/s]\n"
     ]
    }
   ],
   "source": [
    "background = torch.tensor([0, 0, 0], dtype=torch.float32, device=\"cuda\")\n",
    "# width = 1280\n",
    "# height = 720\n",
    "# width = 1200\n",
    "# height = 667\n",
    "width = refcam.image_width\n",
    "height = refcam.image_height\n",
    "image = torch.ones((3, height, width), dtype=float)\n",
    "for i in tqdm(range(N)):\n",
    "    T = cameras[i, :3]\n",
    "    # xyzw\n",
    "    quat = cameras[i, 3:7]\n",
    "    R = Quaternion(x=quat[0], y=quat[1], z=quat[2], w=quat[3]).transformation_matrix\n",
    "    R[:3, 3] = T\n",
    "    transf = np.linalg.inv(R).T\n",
    "    # print(R, transf)\n",
    "    # transf[1, :] = -transf[1, :]\n",
    "    # transf[2, :] = -transf[2, :]\n",
    "    transf[:, 1] = -transf[:, 1]\n",
    "    transf[:, 2] = -transf[:, 2]\n",
    "\n",
    "    # R = transf[:3, :3]\n",
    "    # T = transf[:3, 3]\n",
    "    fovy = cameras[i, -4]\n",
    "    fovx = cameras[i, -3]\n",
    "    fovy = refcam.FoVy\n",
    "    fovx = refcam.FoVx\n",
    "    znear = cameras[i, -2]\n",
    "    zfar = cameras[i, -1]\n",
    "    # view = Camera(0, R, T, aspect*fovy/180*np.pi, fovy/180*np.pi, image, image, \"fake\", 0)\n",
    "    world_view_transform = torch.as_tensor(transf).float()\n",
    "    full_proj_transform = torch.as_tensor(transf).float()\n",
    "    # fovx = 1.699109673500061\n",
    "    # fovx = 1.7087104320526123\n",
    "    # fovx = 1.399527668952942\n",
    "    view = MiniCam(width, height, fovy, fovx, znear, zfar, world_view_transform, full_proj_transform)\n",
    "    view.model = ProjectionType.PERSPECTIVE\n",
    "    with torch.no_grad():\n",
    "        # rendering = splinerender(view, gaussians, pipeline, background, random=False)[\"render\"]\n",
    "        renderer.set_camera(view)\n",
    "        rendering = renderer.render(view, pipeline, background)\n",
    "        # rendering = splinerender(cam, gaussians, pipeline, background)[\"render\"]\n",
    "        byte_rendering = (rendering.permute(1, 2, 0).cpu().numpy()*255).clip(min=0, max=255).astype(np.uint8)\n",
    "    full_output_path = output_path / f\"{i:06d}.png\"\n",
    "    imageio.imwrite(str(full_output_path), byte_rendering)\n",
    "    # plt.imshow(byte_rendering)\n",
    "    # plt.show()"
   ]
  },
  {
   "cell_type": "code",
   "execution_count": null,
   "metadata": {},
   "outputs": [],
   "source": []
  },
  {
   "cell_type": "code",
   "execution_count": null,
   "metadata": {},
   "outputs": [],
   "source": []
  },
  {
   "cell_type": "code",
   "execution_count": null,
   "metadata": {},
   "outputs": [],
   "source": []
  },
  {
   "cell_type": "code",
   "execution_count": null,
   "metadata": {},
   "outputs": [],
   "source": []
  }
 ],
 "metadata": {
  "kernelspec": {
   "display_name": "Python 3",
   "language": "python",
   "name": "python3"
  },
  "language_info": {
   "codemirror_mode": {
    "name": "ipython",
    "version": 3
   },
   "file_extension": ".py",
   "mimetype": "text/x-python",
   "name": "python",
   "nbconvert_exporter": "python",
   "pygments_lexer": "ipython3",
   "version": "3.11.6"
  }
 },
 "nbformat": 4,
 "nbformat_minor": 2
}
